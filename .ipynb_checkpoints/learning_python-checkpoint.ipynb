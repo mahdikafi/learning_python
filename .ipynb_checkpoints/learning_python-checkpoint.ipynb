{
 "cells": [
  {
   "cell_type": "markdown",
   "metadata": {},
   "source": [
    "# Strings"
   ]
  },
  {
   "cell_type": "code",
   "execution_count": 1,
   "metadata": {},
   "outputs": [
    {
     "name": "stdout",
     "output_type": "stream",
     "text": [
      "Spam\n",
      "Spam\n",
      "This is a multiline string.\n",
      "This is the second line in the same string.\n"
     ]
    }
   ],
   "source": [
    "s = 'Spam'\n",
    "print(s)\n",
    "s = \"Spam\"\n",
    "print(s)\n",
    "\n",
    "# Multiline Strings\n",
    "ms = \"\"\"This is a multiline string.\n",
    "This is the second line in the same string.\"\"\"\n",
    "print(ms) "
   ]
  },
  {
   "cell_type": "markdown",
   "metadata": {},
   "source": [
    "## Sequence Operations"
   ]
  },
  {
   "cell_type": "code",
   "execution_count": 2,
   "metadata": {},
   "outputs": [
    {
     "name": "stdout",
     "output_type": "stream",
     "text": [
      "s[0]: S\n",
      "s[1]: p\n",
      "s[-1]: m\n",
      "s[1:]: pam\n",
      "s[0:3]: Spa\n",
      "s[:3]: Spa\n",
      "s[:-1]: Spa\n"
     ]
    }
   ],
   "source": [
    "s = 'Spam'\n",
    "\n",
    "#indexing\n",
    "print(\"s[0]:\", s[0])\n",
    "print(\"s[1]:\", s[1])\n",
    "print(\"s[-1]:\", s[-1])\n",
    "\n",
    "#slicing\n",
    "print(\"s[1:]:\", s[1:]) # Everything past the first\n",
    "print(\"s[0:3]:\", s[0:3]) # Everything but the last\n",
    "print(\"s[:3]:\", s[:3]) # Same as s[0:3]\n",
    "print(\"s[:-1]:\", s[:-1]) # Simpler version of everything but the last"
   ]
  },
  {
   "cell_type": "markdown",
   "metadata": {},
   "source": [
    "## Immutability\n",
    "#### Notice: None of the string operations attempts to change the original string, because strings are immutable in Python. They can not be changed after their creation."
   ]
  },
  {
   "cell_type": "code",
   "execution_count": 3,
   "metadata": {},
   "outputs": [
    {
     "ename": "TypeError",
     "evalue": "'str' object does not support item assignment",
     "output_type": "error",
     "traceback": [
      "\u001b[1;31m---------------------------------------------------------------------------\u001b[0m",
      "\u001b[1;31mTypeError\u001b[0m                                 Traceback (most recent call last)",
      "\u001b[1;32m<ipython-input-3-bf01a551fbbf>\u001b[0m in \u001b[0;36m<module>\u001b[1;34m\u001b[0m\n\u001b[1;32m----> 1\u001b[1;33m \u001b[0ms\u001b[0m\u001b[1;33m[\u001b[0m\u001b[1;36m0\u001b[0m\u001b[1;33m]\u001b[0m \u001b[1;33m=\u001b[0m \u001b[1;34m'M'\u001b[0m\u001b[1;33m\u001b[0m\u001b[1;33m\u001b[0m\u001b[0m\n\u001b[0m",
      "\u001b[1;31mTypeError\u001b[0m: 'str' object does not support item assignment"
     ]
    }
   ],
   "source": [
    "s[0] = 'M'"
   ]
  },
  {
   "cell_type": "code",
   "execution_count": 4,
   "metadata": {},
   "outputs": [
    {
     "name": "stdout",
     "output_type": "stream",
     "text": [
      "Mpam\n"
     ]
    }
   ],
   "source": [
    "new_s = 'M' + s[1:]\n",
    "print(new_s)"
   ]
  },
  {
   "cell_type": "markdown",
   "metadata": {},
   "source": [
    "## Iterate over Strings"
   ]
  },
  {
   "cell_type": "code",
   "execution_count": 5,
   "metadata": {},
   "outputs": [
    {
     "name": "stdout",
     "output_type": "stream",
     "text": [
      "0 S\n",
      "1 p\n",
      "2 a\n",
      "3 m\n"
     ]
    }
   ],
   "source": [
    "count = 0\n",
    "for letter in s:\n",
    "    print(count, letter)\n",
    "    count += 1"
   ]
  },
  {
   "cell_type": "markdown",
   "metadata": {},
   "source": [
    "## String Methods"
   ]
  },
  {
   "cell_type": "code",
   "execution_count": 15,
   "metadata": {},
   "outputs": [
    {
     "name": "stdout",
     "output_type": "stream",
     "text": [
      "find method: 1\n",
      "find method: 1\n",
      "rfind method: 5\n",
      "in operation: True\n",
      "--------------------------------\n",
      "S__replaced__mS__replaced__m\n",
      "--------------------------------\n",
      "SPAM\n",
      "spam\n",
      "Spam\n",
      "--------------------------------\n",
      "This is a multiline string.\n",
      "This is the second line in the same string.\n",
      "['This', 'is', 'a', 'multiline', 'string.\\nThis', 'is', 'the', 'second', 'line', 'in', 'the', 'same', 'string.']\n",
      "This is a multiline string.\n",
      "This is the second line in the same string.\n",
      "--------------------------------\n",
      "     I have many white spaces     \n",
      "     I have many white spaces\n",
      "I have many white spaces     \n",
      "I have many white spaces\n",
      "--------------------------------\n",
      "Spam\n",
      "True\n",
      "False\n"
     ]
    }
   ],
   "source": [
    "# Find a letter or substring in a String\n",
    "print(\"find method:\", s.find('p'))\n",
    "duplicate_s = \"SpamSpam\"\n",
    "print(\"find method:\", duplicate_s.find('p')) # It returns the index of the first occurrence of the given letter\n",
    "print(\"rfind method:\", duplicate_s.rfind('p'))\n",
    "print(\"in operation:\", 'p' in duplicate_s) # Sometimes We only want to check the existence of a specific letter \n",
    "print(\"--------------------------------\")\n",
    "# replace\n",
    "print(duplicate_s.replace(\"pa\", \"__replaced__\"))\n",
    "print(\"--------------------------------\")\n",
    "print(s.upper())\n",
    "print(s.lower())\n",
    "print(s.capitalize()) # Maybe suitable in creating folders for customrs that they are not enter their names in capitalized form\n",
    "print(\"--------------------------------\")\n",
    "print(ms)\n",
    "print(ms.split(\" \")) # It returns a list of substrings in the original string which are separated by the given delimiter\n",
    "ms_list = ms.split(\" \")\n",
    "print(\" \".join(ms_list)) # Put the elements of the list together and put the specified string between them\n",
    "print(\"--------------------------------\")\n",
    "white_space = \"     I have many white spaces     \"\n",
    "print(white_space)\n",
    "print(white_space.rstrip()) \n",
    "print(white_space.lstrip())\n",
    "print(white_space.strip())\n",
    "print(\"--------------------------------\")\n",
    "print(s)\n",
    "print(s.startswith('S'))\n",
    "print(s.endswith('M'))"
   ]
  },
  {
   "cell_type": "markdown",
   "metadata": {},
   "source": [
    "## Example\n",
    "#### find the host name in the string"
   ]
  },
  {
   "cell_type": "code",
   "execution_count": 19,
   "metadata": {},
   "outputs": [
    {
     "name": "stdout",
     "output_type": "stream",
     "text": [
      "10\n",
      "22\n",
      "platute.com\n"
     ]
    }
   ],
   "source": [
    "# Host name is \"platute.com\"\n",
    "# We know that the host name comes just after the @ and ends with a space\n",
    "string = \"From Mahdi@platute.com Sat Jan 5 10 30 20 2021\"\n",
    "at_position = string.find(\"@\")\n",
    "print(at_position)\n",
    "sp_position = string.find(\" \", at_position) \n",
    "print(sp_position)\n",
    "host = string[at_position+1:sp_position]\n",
    "print(host)"
   ]
  },
  {
   "cell_type": "markdown",
   "metadata": {},
   "source": [
    "## F String"
   ]
  },
  {
   "cell_type": "code",
   "execution_count": 21,
   "metadata": {},
   "outputs": [
    {
     "name": "stdout",
     "output_type": "stream",
     "text": [
      "Tomorrow weather would be windy\n",
      "Tomorrow weather would be cold\n",
      "Tomorrow weather would be foggy\n"
     ]
    }
   ],
   "source": [
    "weather = ['windy', 'cold', 'foggy']\n",
    "for w in weather:\n",
    "    print(f'Tomorrow weather would be {w}.')"
   ]
  },
  {
   "cell_type": "markdown",
   "metadata": {},
   "source": [
    "# Files"
   ]
  },
  {
   "cell_type": "code",
   "execution_count": 32,
   "metadata": {},
   "outputs": [
    {
     "name": "stdout",
     "output_type": "stream",
     "text": [
      "<class '_io.TextIOWrapper'>\n",
      "Hello text file.\n",
      "\n",
      "Goodbye text file.\n",
      "\n",
      "--------------------------------\n"
     ]
    }
   ],
   "source": [
    "file = open('first_file.txt', 'w')\n",
    "print(type(file))\n",
    "file.write('Hello text file.\\n')\n",
    "file.write('Goodbye text file.\\n')\n",
    "file.close() # Flush output buffers to disk\n",
    "\n",
    "with open('first_file.txt') as file:\n",
    "    print(file.readline())\n",
    "    print(file.readline())\n",
    "\n",
    "print(\"--------------------------------\")\n",
    "with open('mbox_short.txt') as file:\n",
    "    content = file.read()\n",
    "with open('mbox_short_upper.txt', 'w') as file:\n",
    "    file.write(content.upper())"
   ]
  },
  {
   "cell_type": "markdown",
   "metadata": {},
   "source": [
    "## Examples"
   ]
  },
  {
   "cell_type": "markdown",
   "metadata": {},
   "source": [
    "#### Write a program that prompts for the names of a source file to read and a target file to write, and copy the content of the source file to the target file, but get all empty lines removed, then output the number of empty lines removed."
   ]
  },
  {
   "cell_type": "code",
   "execution_count": 37,
   "metadata": {},
   "outputs": [
    {
     "name": "stdin",
     "output_type": "stream",
     "text": [
      "Enter the name of the source file:  String.txt\n",
      "Enter the name of the target file:  NoEmptyLineString.txt\n"
     ]
    },
    {
     "name": "stdout",
     "output_type": "stream",
     "text": [
      "16\n"
     ]
    }
   ],
   "source": [
    "input_file = input('Enter the name of the source file: ')\n",
    "output_file = input('Enter the name of the target file: ')\n",
    "empty_lines_count = 0\n",
    "with open(input_file) as in_file:\n",
    "    with open(output_file, 'w') as out_file:\n",
    "        for line in in_file:\n",
    "            if line == '\\n':\n",
    "                empty_lines_count += 1\n",
    "                continue\n",
    "            out_file.write(line)\n",
    "print(empty_lines_count)"
   ]
  },
  {
   "cell_type": "markdown",
   "metadata": {},
   "source": [
    "#### Write a program that prompts for the name of a file, then print the first two lines and the last two lines of the file."
   ]
  },
  {
   "cell_type": "code",
   "execution_count": 39,
   "metadata": {},
   "outputs": [
    {
     "name": "stdin",
     "output_type": "stream",
     "text": [
      "Enter the name of the file:  Yesterday.txt\n"
     ]
    },
    {
     "name": "stdout",
     "output_type": "stream",
     "text": [
      "Yesterday Once More\n",
      "When I was young\n",
      "I would sing to then\n",
      "And I'd memorize each\n"
     ]
    }
   ],
   "source": [
    "file_name = input('Enter the name of the file: ')\n",
    "with open(file_name) as file:\n",
    "    print(file.readline().rstrip())\n",
    "    print(file.readline().rstrip())\n",
    "    line_1 = file.readline().rstrip()\n",
    "    for line in file:\n",
    "        if line.endswith('\\n'):\n",
    "            line_1 = line.rstrip()\n",
    "        else:\n",
    "            print(line_1)\n",
    "            print(line)\n",
    "            "
   ]
  },
  {
   "cell_type": "markdown",
   "metadata": {},
   "source": [
    "#### Write a program that prompts for the name of a file containing numbers in each line, prints the average of each line. Assume each line contains numbers only and they are separated by spaces."
   ]
  },
  {
   "cell_type": "code",
   "execution_count": null,
   "metadata": {},
   "outputs": [],
   "source": []
  },
  {
   "cell_type": "markdown",
   "metadata": {},
   "source": [
    "#### Write your own version of wc that prompts for the name of the file to read, then prints the counts. Assume a word may contain letters, digits, symbols and their mixture, but not space. Hyphenated words, e.g. large-scale, shall be considered as one word."
   ]
  },
  {
   "cell_type": "code",
   "execution_count": null,
   "metadata": {},
   "outputs": [],
   "source": []
  }
 ],
 "metadata": {
  "kernelspec": {
   "display_name": "Python 3",
   "language": "python",
   "name": "python3"
  },
  "language_info": {
   "codemirror_mode": {
    "name": "ipython",
    "version": 3
   },
   "file_extension": ".py",
   "mimetype": "text/x-python",
   "name": "python",
   "nbconvert_exporter": "python",
   "pygments_lexer": "ipython3",
   "version": "3.8.5"
  }
 },
 "nbformat": 4,
 "nbformat_minor": 4
}
