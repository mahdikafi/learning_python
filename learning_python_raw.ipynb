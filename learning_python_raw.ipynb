{
 "cells": [
  {
   "cell_type": "markdown",
   "metadata": {},
   "source": [
    "# Strings"
   ]
  },
  {
   "cell_type": "code",
   "execution_count": 2,
   "metadata": {},
   "outputs": [
    {
     "name": "stdout",
     "output_type": "stream",
     "text": [
      "Spam\n",
      "Spam\n"
     ]
    }
   ],
   "source": [
    "s = 'Spam'\n",
    "print(s)\n",
    "s = \"Spam\"\n",
    "print(s)\n"
   ]
  },
  {
   "cell_type": "markdown",
   "metadata": {},
   "source": [
    "## Sequence Operations"
   ]
  },
  {
   "cell_type": "code",
   "execution_count": 8,
   "metadata": {},
   "outputs": [
    {
     "name": "stdout",
     "output_type": "stream",
     "text": [
      "S\n",
      "p\n",
      "m\n",
      "pam\n",
      "Spa\n"
     ]
    }
   ],
   "source": [
    "print(s[0])\n",
    "print(s[1])\n",
    "print(s[-1])\n",
    "\n",
    "print(s[1:])\n",
    "print(s[0:3])\n"
   ]
  },
  {
   "cell_type": "markdown",
   "metadata": {},
   "source": [
    "## Immutability\n",
    "#### Notice: None of the string operations attempts to change the original string, because strings are immutable in Python. They can not be changed after their creation."
   ]
  },
  {
   "cell_type": "code",
   "execution_count": 10,
   "metadata": {},
   "outputs": [
    {
     "name": "stdout",
     "output_type": "stream",
     "text": [
      "['S', 'p', 'a']\n",
      "['M', 'p', 'a']\n"
     ]
    }
   ],
   "source": [
    "lst = [\"S\", \"p\", \"a\"]\n",
    "print(lst)\n",
    "lst[0] = \"M\"\n",
    "print(lst)"
   ]
  },
  {
   "cell_type": "code",
   "execution_count": 11,
   "metadata": {},
   "outputs": [
    {
     "ename": "TypeError",
     "evalue": "'str' object does not support item assignment",
     "output_type": "error",
     "traceback": [
      "\u001b[1;31m---------------------------------------------------------------------------\u001b[0m",
      "\u001b[1;31mTypeError\u001b[0m                                 Traceback (most recent call last)",
      "\u001b[1;32m<ipython-input-11-1feee998391f>\u001b[0m in \u001b[0;36m<module>\u001b[1;34m\u001b[0m\n\u001b[0;32m      1\u001b[0m \u001b[0ms\u001b[0m \u001b[1;33m=\u001b[0m \u001b[1;34m\"Spam\"\u001b[0m\u001b[1;33m\u001b[0m\u001b[1;33m\u001b[0m\u001b[0m\n\u001b[1;32m----> 2\u001b[1;33m \u001b[0ms\u001b[0m\u001b[1;33m[\u001b[0m\u001b[1;36m0\u001b[0m\u001b[1;33m]\u001b[0m \u001b[1;33m=\u001b[0m \u001b[1;34m\"M\"\u001b[0m\u001b[1;33m\u001b[0m\u001b[1;33m\u001b[0m\u001b[0m\n\u001b[0m\u001b[0;32m      3\u001b[0m \u001b[1;33m\u001b[0m\u001b[0m\n",
      "\u001b[1;31mTypeError\u001b[0m: 'str' object does not support item assignment"
     ]
    }
   ],
   "source": [
    "s = \"Spam\"\n",
    "s[0] = \"M\"\n"
   ]
  },
  {
   "cell_type": "code",
   "execution_count": 12,
   "metadata": {},
   "outputs": [
    {
     "name": "stdout",
     "output_type": "stream",
     "text": [
      "Mpam\n"
     ]
    }
   ],
   "source": [
    "new_s = 'M' + s[1:]\n",
    "print(new_s)"
   ]
  },
  {
   "cell_type": "markdown",
   "metadata": {},
   "source": [
    "## Iterate over Strings"
   ]
  },
  {
   "cell_type": "code",
   "execution_count": 13,
   "metadata": {},
   "outputs": [
    {
     "name": "stdout",
     "output_type": "stream",
     "text": [
      "S\n",
      "p\n",
      "a\n",
      "m\n"
     ]
    }
   ],
   "source": [
    "for letter in s:\n",
    "    print(letter)"
   ]
  },
  {
   "cell_type": "markdown",
   "metadata": {},
   "source": [
    "## String Methods"
   ]
  },
  {
   "cell_type": "code",
   "execution_count": 31,
   "metadata": {},
   "outputs": [
    {
     "data": {
      "text/plain": [
       "'Today______is______cold.'"
      ]
     },
     "execution_count": 31,
     "metadata": {},
     "output_type": "execute_result"
    }
   ],
   "source": []
  },
  {
   "cell_type": "markdown",
   "metadata": {},
   "source": [
    "## Example\n",
    "#### find the host name in the string"
   ]
  },
  {
   "cell_type": "code",
   "execution_count": 38,
   "metadata": {},
   "outputs": [
    {
     "name": "stdout",
     "output_type": "stream",
     "text": [
      "10\n",
      "22\n",
      "platute.com\n"
     ]
    }
   ],
   "source": [
    "# Host name is \"platute.com\"\n",
    "# We know that the host name comes just after the @ and ends with a space\n",
    "string = \"From Mahdi@platute.com Sat Jan 5 10 30 20 2021\"\n",
    "at_position = string.find('@')\n",
    "print(at_position)\n",
    "sp_position = string.find(' ', at_position)\n",
    "print(sp_position)\n",
    "host = string[at_position+1:sp_position]\n",
    "print(host)"
   ]
  },
  {
   "cell_type": "markdown",
   "metadata": {},
   "source": [
    "## F String"
   ]
  },
  {
   "cell_type": "code",
   "execution_count": 42,
   "metadata": {},
   "outputs": [
    {
     "name": "stdout",
     "output_type": "stream",
     "text": [
      "Tomorrow weather would be windy.\n",
      "Tomorrow weather would be cold.\n",
      "Tomorrow weather would be foggy.\n"
     ]
    }
   ],
   "source": [
    "weather = [\"windy\", \"cold\", \"foggy\"]\n",
    "for w in weather:\n",
    "    print(f\"Tomorrow weather would be {w}.\")"
   ]
  },
  {
   "cell_type": "markdown",
   "metadata": {},
   "source": [
    "# Files"
   ]
  },
  {
   "cell_type": "code",
   "execution_count": null,
   "metadata": {},
   "outputs": [],
   "source": []
  },
  {
   "cell_type": "markdown",
   "metadata": {},
   "source": [
    "## Examples"
   ]
  },
  {
   "cell_type": "markdown",
   "metadata": {},
   "source": [
    "#### Write a program that prompts for the names of a source file to read and a target file to write, and copy the content of the source file to the target file, but get all empty lines removed, then output the number of empty lines removed."
   ]
  },
  {
   "cell_type": "code",
   "execution_count": null,
   "metadata": {},
   "outputs": [],
   "source": []
  },
  {
   "cell_type": "markdown",
   "metadata": {},
   "source": [
    "#### Write a program that prompts for the name of a file, then print the first two lines and the last two lines of the file."
   ]
  },
  {
   "cell_type": "code",
   "execution_count": null,
   "metadata": {},
   "outputs": [],
   "source": []
  },
  {
   "cell_type": "markdown",
   "metadata": {},
   "source": [
    "#### Write a program that prompts for the name of a file containing numbers in each line, prints the average of each line. Assume each line contains numbers only and they are separated by spaces."
   ]
  },
  {
   "cell_type": "code",
   "execution_count": null,
   "metadata": {},
   "outputs": [],
   "source": []
  },
  {
   "cell_type": "code",
   "execution_count": null,
   "metadata": {},
   "outputs": [],
   "source": []
  },
  {
   "cell_type": "code",
   "execution_count": null,
   "metadata": {},
   "outputs": [],
   "source": []
  },
  {
   "cell_type": "markdown",
   "metadata": {},
   "source": [
    "#### Write your own version of wc that prompts for the name of the file to read, then prints the counts. Assume a word may contain letters, digits, symbols and their mixture, but not space. Hyphenated words, e.g. large-scale, shall be considered as one word."
   ]
  },
  {
   "cell_type": "code",
   "execution_count": null,
   "metadata": {},
   "outputs": [],
   "source": []
  },
  {
   "cell_type": "code",
   "execution_count": null,
   "metadata": {},
   "outputs": [],
   "source": []
  },
  {
   "cell_type": "code",
   "execution_count": null,
   "metadata": {},
   "outputs": [],
   "source": []
  },
  {
   "cell_type": "code",
   "execution_count": null,
   "metadata": {},
   "outputs": [],
   "source": []
  },
  {
   "cell_type": "code",
   "execution_count": null,
   "metadata": {},
   "outputs": [],
   "source": []
  },
  {
   "cell_type": "markdown",
   "metadata": {},
   "source": [
    "# While Loop"
   ]
  },
  {
   "cell_type": "code",
   "execution_count": 20,
   "metadata": {},
   "outputs": [
    {
     "name": "stdout",
     "output_type": "stream",
     "text": [
      "10\n",
      "9\n",
      "8\n",
      "7\n",
      "6\n",
      "5\n",
      "4\n",
      "3\n",
      "2\n",
      "1\n",
      "while loop is finished.\n"
     ]
    }
   ],
   "source": [
    "i = 10\n",
    "while i>0:\n",
    "    print(i)\n",
    "    i -= 1\n",
    "print('while loop is finished.')"
   ]
  },
  {
   "cell_type": "code",
   "execution_count": 21,
   "metadata": {},
   "outputs": [
    {
     "name": "stdout",
     "output_type": "stream",
     "text": [
      "['sam\\n', 'bob\\n', 'david\\n', 'Rose\\n', 'John']\n",
      "5\n",
      "John\n",
      "Rose\n",
      "David\n",
      "Bob\n",
      "Sam\n"
     ]
    }
   ],
   "source": [
    "file = open('names.txt')\n",
    "names = file.readlines()\n",
    "print(names)\n",
    "num_names = len(names)\n",
    "print(num_names)\n",
    "i = num_names - 1\n",
    "while i >= 0:\n",
    "    print(names[i].strip().capitalize())\n",
    "    i -= 1"
   ]
  },
  {
   "cell_type": "code",
   "execution_count": 33,
   "metadata": {},
   "outputs": [
    {
     "name": "stdout",
     "output_type": "stream",
     "text": [
      "John\n",
      "Rose\n",
      "David\n",
      "Bob\n",
      "Sam\n"
     ]
    }
   ],
   "source": [
    "file = open('names.txt')\n",
    "out = open('correct_names.txt', 'w')\n",
    "names = file.readlines()\n",
    "num_names = len(names)\n",
    "idx = num_names\n",
    "while idx > 0:\n",
    "    correct_name = names[idx - 1].rstrip().capitalize()\n",
    "    out.write(correct_name+'\\n')\n",
    "    print(correct_name)\n",
    "    idx -= 1\n",
    "out.close()"
   ]
  },
  {
   "cell_type": "markdown",
   "metadata": {},
   "source": [
    "## Break\n",
    "#### Jumps out of the colsest enclosing loop in other words past the entire loop statement"
   ]
  },
  {
   "cell_type": "code",
   "execution_count": 38,
   "metadata": {},
   "outputs": [
    {
     "name": "stdin",
     "output_type": "stream",
     "text": [
      "Enter your name:  Ryuji\n"
     ]
    },
    {
     "name": "stdout",
     "output_type": "stream",
     "text": [
      "Hello dear Ryuji.\n"
     ]
    },
    {
     "name": "stdin",
     "output_type": "stream",
     "text": [
      "Enter your name:  Mahdi\n"
     ]
    },
    {
     "name": "stdout",
     "output_type": "stream",
     "text": [
      "Hello dear Mahdi.\n"
     ]
    },
    {
     "name": "stdin",
     "output_type": "stream",
     "text": [
      "Enter your name:  stop\n"
     ]
    }
   ],
   "source": [
    "while True:\n",
    "    name = input('Enter your name: ')\n",
    "    if name == 'stop':\n",
    "        break\n",
    "    print(f'Hello dear {name}.')"
   ]
  },
  {
   "cell_type": "markdown",
   "metadata": {},
   "source": [
    "## Continue\n",
    "#### Jumps to the top of the colsest enclosing loop (to the loop's header line)"
   ]
  },
  {
   "cell_type": "code",
   "execution_count": 52,
   "metadata": {},
   "outputs": [
    {
     "name": "stdout",
     "output_type": "stream",
     "text": [
      "8 6 4 2 0 "
     ]
    }
   ],
   "source": [
    "x = 10\n",
    "while x>=0:\n",
    "    x = x -1\n",
    "    if x % 2 != 0:\n",
    "        continue\n",
    "    print(x, end=' ')"
   ]
  },
  {
   "cell_type": "markdown",
   "metadata": {},
   "source": [
    "## Loop Else\n",
    "#### Runs if and only if the loop is exited noramlly (i.e., without hitting a break)"
   ]
  },
  {
   "cell_type": "code",
   "execution_count": 49,
   "metadata": {},
   "outputs": [
    {
     "name": "stdout",
     "output_type": "stream",
     "text": [
      "11 is prime.\n"
     ]
    }
   ],
   "source": [
    "y = 11\n",
    "x = y // 2\n",
    "while x > 1:\n",
    "    if y % x == 0:\n",
    "        print(y, 'has factor', x)\n",
    "        break\n",
    "    x -= 1\n",
    "else:\n",
    "    print(y, 'is prime.')"
   ]
  },
  {
   "cell_type": "markdown",
   "metadata": {},
   "source": [
    "# Functions\n"
   ]
  },
  {
   "cell_type": "code",
   "execution_count": 2,
   "metadata": {},
   "outputs": [
    {
     "name": "stdin",
     "output_type": "stream",
     "text": [
      "Enter your name:  Ryuji\n"
     ]
    },
    {
     "name": "stdout",
     "output_type": "stream",
     "text": [
      "Hello Ryuji\n"
     ]
    },
    {
     "name": "stdin",
     "output_type": "stream",
     "text": [
      "Enter your name:  Mahdi\n"
     ]
    },
    {
     "name": "stdout",
     "output_type": "stream",
     "text": [
      "Hello Mahdi\n"
     ]
    },
    {
     "name": "stdin",
     "output_type": "stream",
     "text": [
      "Enter your name:  exit\n"
     ]
    }
   ],
   "source": [
    "def say_hello(customer_name):\n",
    "    print(f\"Hello {customer_name}\")\n",
    "    \n",
    "while True:\n",
    "    name = input(\"Enter your name: \")\n",
    "    if name == \"exit\":\n",
    "        break\n",
    "    say_hello(name)"
   ]
  },
  {
   "cell_type": "markdown",
   "metadata": {},
   "source": [
    "# Example\n",
    "### Write a function that given a list of numbers, rotate the numbers so the first number becomes the last, and the rest numbers move one position forward. Make the rotation iteratively until it returns to the initial form."
   ]
  },
  {
   "cell_type": "code",
   "execution_count": 13,
   "metadata": {},
   "outputs": [
    {
     "name": "stdin",
     "output_type": "stream",
     "text": [
      "Input a list:  1 2 3 4\n"
     ]
    },
    {
     "name": "stdout",
     "output_type": "stream",
     "text": [
      "[1, 2, 3, 4]\n",
      "[2, 3, 4, 1]\n",
      "[3, 4, 1, 2]\n",
      "[4, 1, 2, 3]\n",
      "[1, 2, 3, 4]\n",
      "[2, 3, 4, 1]\n",
      "[3, 4, 1, 2]\n",
      "[4, 1, 2, 3]\n",
      "[1, 2, 3, 4]\n",
      "[2, 3, 4, 1]\n",
      "[3, 4, 1, 2]\n"
     ]
    }
   ],
   "source": [
    "def rotate(in_list):\n",
    "    print(in_list)\n",
    "    for i in range(10):\n",
    "        in_list.append(in_list.pop(0))\n",
    "        print(in_list)\n",
    "\n",
    "lst = [int(num) for num in input(\"Input a list: \").split()]\n",
    "rotate(lst)"
   ]
  },
  {
   "cell_type": "code",
   "execution_count": 10,
   "metadata": {},
   "outputs": [
    {
     "data": {
      "text/plain": [
       "[2, 3, 4]"
      ]
     },
     "execution_count": 10,
     "metadata": {},
     "output_type": "execute_result"
    }
   ],
   "source": [
    "lst = [1, 2, 3, 4]\n",
    "lst.pop(0)\n",
    "lst"
   ]
  },
  {
   "cell_type": "markdown",
   "metadata": {},
   "source": [
    "## Example\n",
    "### Given two lists, write a function that takes these two lists as the input arguments and returns the list of all the elements in the first list that occur in the second list. The returned list shall not contain duplicate elements. Your main program will allow the user enter two lists of numbers and end input with a blank line for list 1."
   ]
  },
  {
   "cell_type": "code",
   "execution_count": 18,
   "metadata": {},
   "outputs": [
    {
     "data": {
      "text/plain": [
       "[2, 3]"
      ]
     },
     "execution_count": 18,
     "metadata": {},
     "output_type": "execute_result"
    }
   ],
   "source": [
    "def common_numbers(lst_1, lst_2):\n",
    "    lst_3 = []\n",
    "    for element in lst_1:\n",
    "        if element in lst_2:\n",
    "            if not element in lst_3:\n",
    "                lst_3.append(element)\n",
    "    return lst_3\n",
    "\n",
    "ryuji = [1, 2, 3, 4]\n",
    "mahdi = [2, 3, 3]\n",
    "common_numbers(ryuji, mahdi)\n",
    "\n"
   ]
  },
  {
   "cell_type": "markdown",
   "metadata": {},
   "source": [
    "## Example \n",
    "### Write a function that given a list of numbers, returns True if and only if all of the numbers in the list form an arithmetic progression, that is the difference between any two successive numbers in the list is the same. Your main program should read a file containing space-separated numbers as test lists, print each list and the outcome after calling the function."
   ]
  },
  {
   "cell_type": "code",
   "execution_count": 36,
   "metadata": {},
   "outputs": [
    {
     "name": "stdout",
     "output_type": "stream",
     "text": [
      "True\n"
     ]
    }
   ],
   "source": [
    "# lst = [1, 3, 5, 7]\n",
    "# prev_num = lst[0]\n",
    "# new_num = lst[1]\n",
    "# delta = new_num - prev_num\n",
    "# prev_num = lst[1]\n",
    "# for element in lst[2:]:\n",
    "#     if not (element - prev_num) == delta:\n",
    "#         print(\"False\")\n",
    "#         break\n",
    "#     prev_num = element\n",
    "# else:\n",
    "#     print(\"True\")\n",
    "    \n",
    "def is_arithmatic_prog(lst):\n",
    "    prev_num = lst[0]\n",
    "    new_num = lst[1]\n",
    "    delta = new_num - prev_num\n",
    "    prev_num = lst[1]\n",
    "    for element in lst[2:]:\n",
    "        if not (element - prev_num) == delta:\n",
    "            return False\n",
    "        prev_num = element\n",
    "    return True\n",
    "\n",
    "out = is_arithmatic_prog([1, 2, 3])\n",
    "print(out)\n",
    "\n"
   ]
  },
  {
   "cell_type": "code",
   "execution_count": 51,
   "metadata": {},
   "outputs": [
    {
     "data": {
      "text/plain": [
       "[1, 2, 3, 4]"
      ]
     },
     "execution_count": 51,
     "metadata": {},
     "output_type": "execute_result"
    }
   ],
   "source": [
    "def test(lst, item):\n",
    "    if item in lst:\n",
    "        return lst\n",
    "    else:\n",
    "        lst.append(item)\n",
    "        return lst\n",
    "lst = [1, 2, 3]\n",
    "lst = test(lst, 4)\n",
    "lst = test(lst, 3)\n",
    "lst"
   ]
  },
  {
   "cell_type": "markdown",
   "metadata": {},
   "source": [
    "## Example\n",
    "### Given two lists, write a function that merges these two lists in descending order. Your main program will allow the user enter two lists of numbers and end input with a blank line for list 1. You are not allowed to concatenate two lists into a new list and then call the built-in sort() function to sort the new list in descending order. But it is allowed to sort two lists in descending order before merge. Don’t worry about the complexity of the merging algorithm."
   ]
  },
  {
   "cell_type": "code",
   "execution_count": null,
   "metadata": {},
   "outputs": [],
   "source": []
  }
 ],
 "metadata": {
  "kernelspec": {
   "display_name": "Python 3",
   "language": "python",
   "name": "python3"
  },
  "language_info": {
   "codemirror_mode": {
    "name": "ipython",
    "version": 3
   },
   "file_extension": ".py",
   "mimetype": "text/x-python",
   "name": "python",
   "nbconvert_exporter": "python",
   "pygments_lexer": "ipython3",
   "version": "3.8.3"
  }
 },
 "nbformat": 4,
 "nbformat_minor": 4
}
