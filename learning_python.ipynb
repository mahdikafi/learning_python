{
 "cells": [
  {
   "cell_type": "markdown",
   "metadata": {},
   "source": [
    "# Strings"
   ]
  },
  {
   "cell_type": "code",
   "execution_count": 1,
   "metadata": {},
   "outputs": [
    {
     "name": "stdout",
     "output_type": "stream",
     "text": [
      "Spam\n",
      "Spam\n",
      "This is a multiline string.\n",
      "This is the second line in the same string.\n"
     ]
    }
   ],
   "source": [
    "s = 'Spam'\n",
    "print(s)\n",
    "s = \"Spam\"\n",
    "print(s)\n",
    "\n",
    "# Multiline Strings\n",
    "ms = \"\"\"This is a multiline string.\n",
    "This is the second line in the same string.\"\"\"\n",
    "print(ms) "
   ]
  },
  {
   "cell_type": "markdown",
   "metadata": {},
   "source": [
    "## Sequence Operations"
   ]
  },
  {
   "cell_type": "code",
   "execution_count": 2,
   "metadata": {},
   "outputs": [
    {
     "name": "stdout",
     "output_type": "stream",
     "text": [
      "s[0]: S\n",
      "s[1]: p\n",
      "s[-1]: m\n",
      "s[1:]: pam\n",
      "s[0:3]: Spa\n",
      "s[:3]: Spa\n",
      "s[:-1]: Spa\n"
     ]
    }
   ],
   "source": [
    "s = 'Spam'\n",
    "\n",
    "#indexing\n",
    "print(\"s[0]:\", s[0])\n",
    "print(\"s[1]:\", s[1])\n",
    "print(\"s[-1]:\", s[-1])\n",
    "\n",
    "#slicing\n",
    "print(\"s[1:]:\", s[1:]) # Everything past the first\n",
    "print(\"s[0:3]:\", s[0:3]) # Everything but the last\n",
    "print(\"s[:3]:\", s[:3]) # Same as s[0:3]\n",
    "print(\"s[:-1]:\", s[:-1]) # Simpler version of everything but the last"
   ]
  },
  {
   "cell_type": "markdown",
   "metadata": {},
   "source": [
    "## Immutability\n",
    "#### Notice: None of the string operations attempts to change the original string, because strings are immutable in Python. They can not be changed after their creation."
   ]
  },
  {
   "cell_type": "code",
   "execution_count": 3,
   "metadata": {},
   "outputs": [
    {
     "ename": "TypeError",
     "evalue": "'str' object does not support item assignment",
     "output_type": "error",
     "traceback": [
      "\u001b[0;31m---------------------------------------------------------------------------\u001b[0m",
      "\u001b[0;31mTypeError\u001b[0m                                 Traceback (most recent call last)",
      "\u001b[0;32m<ipython-input-3-bf01a551fbbf>\u001b[0m in \u001b[0;36m<module>\u001b[0;34m\u001b[0m\n\u001b[0;32m----> 1\u001b[0;31m \u001b[0ms\u001b[0m\u001b[0;34m[\u001b[0m\u001b[0;36m0\u001b[0m\u001b[0;34m]\u001b[0m \u001b[0;34m=\u001b[0m \u001b[0;34m'M'\u001b[0m\u001b[0;34m\u001b[0m\u001b[0;34m\u001b[0m\u001b[0m\n\u001b[0m",
      "\u001b[0;31mTypeError\u001b[0m: 'str' object does not support item assignment"
     ]
    }
   ],
   "source": [
    "s[0] = 'M'"
   ]
  },
  {
   "cell_type": "code",
   "execution_count": 4,
   "metadata": {},
   "outputs": [
    {
     "name": "stdout",
     "output_type": "stream",
     "text": [
      "Mpam\n"
     ]
    }
   ],
   "source": [
    "new_s = 'M' + s[1:]\n",
    "print(new_s)"
   ]
  },
  {
   "cell_type": "markdown",
   "metadata": {},
   "source": [
    "## Iterate over Strings"
   ]
  },
  {
   "cell_type": "code",
   "execution_count": 5,
   "metadata": {},
   "outputs": [
    {
     "name": "stdout",
     "output_type": "stream",
     "text": [
      "0 S\n",
      "1 p\n",
      "2 a\n",
      "3 m\n"
     ]
    }
   ],
   "source": [
    "count = 0\n",
    "for letter in s:\n",
    "    print(count, letter)\n",
    "    count += 1"
   ]
  },
  {
   "cell_type": "markdown",
   "metadata": {},
   "source": [
    "## String Methods"
   ]
  },
  {
   "cell_type": "code",
   "execution_count": 6,
   "metadata": {},
   "outputs": [
    {
     "name": "stdout",
     "output_type": "stream",
     "text": [
      "find method: 1\n",
      "find method: 1\n",
      "rfind method: 5\n",
      "in operation: True\n",
      "--------------------------------\n",
      "S__replaced__mS__replaced__m\n",
      "--------------------------------\n",
      "SPAM\n",
      "spam\n",
      "Spam\n",
      "--------------------------------\n",
      "This is a multiline string.\n",
      "This is the second line in the same string.\n",
      "['This', 'is', 'a', 'multiline', 'string.\\nThis', 'is', 'the', 'second', 'line', 'in', 'the', 'same', 'string.']\n",
      "This is a multiline string.\n",
      "This is the second line in the same string.\n",
      "--------------------------------\n",
      "     I have many white spaces     \n",
      "     I have many white spaces\n",
      "I have many white spaces     \n",
      "I have many white spaces\n",
      "--------------------------------\n",
      "Spam\n",
      "True\n",
      "False\n"
     ]
    }
   ],
   "source": [
    "# Find a letter or substring in a String\n",
    "print(\"find method:\", s.find('p'))\n",
    "duplicate_s = \"SpamSpam\"\n",
    "print(\"find method:\", duplicate_s.find('p')) # It returns the index of the first occurrence of the given letter\n",
    "print(\"rfind method:\", duplicate_s.rfind('p'))\n",
    "print(\"in operation:\", 'p' in duplicate_s) # Sometimes We only want to check the existence of a specific letter \n",
    "print(\"--------------------------------\")\n",
    "# replace\n",
    "print(duplicate_s.replace(\"pa\", \"__replaced__\"))\n",
    "print(\"--------------------------------\")\n",
    "print(s.upper())\n",
    "print(s.lower())\n",
    "print(s.capitalize()) # Maybe suitable in creating folders for customrs that they are not enter their names in capitalized form\n",
    "print(\"--------------------------------\")\n",
    "print(ms)\n",
    "print(ms.split(\" \")) # It returns a list of substrings in the original string which are separated by the given delimiter\n",
    "ms_list = ms.split(\" \")\n",
    "print(\" \".join(ms_list)) # Put the elements of the list together and put the specified string between them\n",
    "print(\"--------------------------------\")\n",
    "white_space = \"     I have many white spaces     \"\n",
    "print(white_space)\n",
    "print(white_space.rstrip()) \n",
    "print(white_space.lstrip())\n",
    "print(white_space.strip())\n",
    "print(\"--------------------------------\")\n",
    "print(s)\n",
    "print(s.startswith('S'))\n",
    "print(s.endswith('M'))"
   ]
  },
  {
   "cell_type": "markdown",
   "metadata": {},
   "source": [
    "## Example\n",
    "#### find the host name in the string"
   ]
  },
  {
   "cell_type": "code",
   "execution_count": 7,
   "metadata": {},
   "outputs": [
    {
     "name": "stdout",
     "output_type": "stream",
     "text": [
      "10\n",
      "22\n",
      "platute.com\n"
     ]
    }
   ],
   "source": [
    "# Host name is \"platute.com\"\n",
    "# We know that the host name comes just after the @ and ends with a space\n",
    "string = \"From Mahdi@platute.com Sat Jan 5 10 30 20 2021\"\n",
    "at_position = string.find(\"@\")\n",
    "print(at_position)\n",
    "sp_position = string.find(\" \", at_position) \n",
    "print(sp_position)\n",
    "host = string[at_position+1:sp_position]\n",
    "print(host)"
   ]
  },
  {
   "cell_type": "markdown",
   "metadata": {},
   "source": [
    "## F String"
   ]
  },
  {
   "cell_type": "code",
   "execution_count": 8,
   "metadata": {},
   "outputs": [
    {
     "name": "stdout",
     "output_type": "stream",
     "text": [
      "Tomorrow weather would be windy.\n",
      "Tomorrow weather would be cold.\n",
      "Tomorrow weather would be foggy.\n"
     ]
    }
   ],
   "source": [
    "weather = ['windy', 'cold', 'foggy']\n",
    "for w in weather:\n",
    "    print(f'Tomorrow weather would be {w}.')"
   ]
  },
  {
   "cell_type": "markdown",
   "metadata": {},
   "source": [
    "# Files"
   ]
  },
  {
   "cell_type": "code",
   "execution_count": 9,
   "metadata": {},
   "outputs": [
    {
     "name": "stdout",
     "output_type": "stream",
     "text": [
      "<class '_io.TextIOWrapper'>\n",
      "Hello text file.\n",
      "\n",
      "Goodbye text file.\n",
      "\n",
      "--------------------------------\n"
     ]
    }
   ],
   "source": [
    "file = open('first_file.txt', 'w')\n",
    "print(type(file))\n",
    "file.write('Hello text file.\\n')\n",
    "file.write('Goodbye text file.\\n')\n",
    "file.close() # Flush output buffers to disk\n",
    "\n",
    "with open('first_file.txt') as file:\n",
    "    print(file.readline())\n",
    "    print(file.readline())\n",
    "\n",
    "print(\"--------------------------------\")\n",
    "with open('mbox_short.txt') as file:\n",
    "    content = file.read()\n",
    "with open('mbox_short_upper.txt', 'w') as file:\n",
    "    file.write(content.upper())"
   ]
  },
  {
   "cell_type": "markdown",
   "metadata": {},
   "source": [
    "## Examples"
   ]
  },
  {
   "cell_type": "markdown",
   "metadata": {},
   "source": [
    "#### Write a program that prompts for the names of a source file to read and a target file to write, and copy the content of the source file to the target file, but get all empty lines removed, then output the number of empty lines removed."
   ]
  },
  {
   "cell_type": "code",
   "execution_count": 10,
   "metadata": {},
   "outputs": [
    {
     "ename": "KeyboardInterrupt",
     "evalue": "Interrupted by user",
     "output_type": "error",
     "traceback": [
      "\u001b[0;31m---------------------------------------------------------------------------\u001b[0m",
      "\u001b[0;31mKeyboardInterrupt\u001b[0m                         Traceback (most recent call last)",
      "\u001b[0;32m<ipython-input-10-b3088a334c3f>\u001b[0m in \u001b[0;36m<module>\u001b[0;34m\u001b[0m\n\u001b[0;32m----> 1\u001b[0;31m \u001b[0minput_file\u001b[0m \u001b[0;34m=\u001b[0m \u001b[0minput\u001b[0m\u001b[0;34m(\u001b[0m\u001b[0;34m'Enter the name of the source file: '\u001b[0m\u001b[0;34m)\u001b[0m\u001b[0;34m\u001b[0m\u001b[0;34m\u001b[0m\u001b[0m\n\u001b[0m\u001b[1;32m      2\u001b[0m \u001b[0moutput_file\u001b[0m \u001b[0;34m=\u001b[0m \u001b[0minput\u001b[0m\u001b[0;34m(\u001b[0m\u001b[0;34m'Enter the name of the target file: '\u001b[0m\u001b[0;34m)\u001b[0m\u001b[0;34m\u001b[0m\u001b[0;34m\u001b[0m\u001b[0m\n\u001b[1;32m      3\u001b[0m \u001b[0mempty_lines_count\u001b[0m \u001b[0;34m=\u001b[0m \u001b[0;36m0\u001b[0m\u001b[0;34m\u001b[0m\u001b[0;34m\u001b[0m\u001b[0m\n\u001b[1;32m      4\u001b[0m \u001b[0;32mwith\u001b[0m \u001b[0mopen\u001b[0m\u001b[0;34m(\u001b[0m\u001b[0minput_file\u001b[0m\u001b[0;34m)\u001b[0m \u001b[0;32mas\u001b[0m \u001b[0min_file\u001b[0m\u001b[0;34m:\u001b[0m\u001b[0;34m\u001b[0m\u001b[0;34m\u001b[0m\u001b[0m\n\u001b[1;32m      5\u001b[0m     \u001b[0;32mwith\u001b[0m \u001b[0mopen\u001b[0m\u001b[0;34m(\u001b[0m\u001b[0moutput_file\u001b[0m\u001b[0;34m,\u001b[0m \u001b[0;34m'w'\u001b[0m\u001b[0;34m)\u001b[0m \u001b[0;32mas\u001b[0m \u001b[0mout_file\u001b[0m\u001b[0;34m:\u001b[0m\u001b[0;34m\u001b[0m\u001b[0;34m\u001b[0m\u001b[0m\n",
      "\u001b[0;32m~/anaconda3/lib/python3.8/site-packages/ipykernel/kernelbase.py\u001b[0m in \u001b[0;36mraw_input\u001b[0;34m(self, prompt)\u001b[0m\n\u001b[1;32m    858\u001b[0m                 \u001b[0;34m\"raw_input was called, but this frontend does not support input requests.\"\u001b[0m\u001b[0;34m\u001b[0m\u001b[0;34m\u001b[0m\u001b[0m\n\u001b[1;32m    859\u001b[0m             )\n\u001b[0;32m--> 860\u001b[0;31m         return self._input_request(str(prompt),\n\u001b[0m\u001b[1;32m    861\u001b[0m             \u001b[0mself\u001b[0m\u001b[0;34m.\u001b[0m\u001b[0m_parent_ident\u001b[0m\u001b[0;34m,\u001b[0m\u001b[0;34m\u001b[0m\u001b[0;34m\u001b[0m\u001b[0m\n\u001b[1;32m    862\u001b[0m             \u001b[0mself\u001b[0m\u001b[0;34m.\u001b[0m\u001b[0m_parent_header\u001b[0m\u001b[0;34m,\u001b[0m\u001b[0;34m\u001b[0m\u001b[0;34m\u001b[0m\u001b[0m\n",
      "\u001b[0;32m~/anaconda3/lib/python3.8/site-packages/ipykernel/kernelbase.py\u001b[0m in \u001b[0;36m_input_request\u001b[0;34m(self, prompt, ident, parent, password)\u001b[0m\n\u001b[1;32m    902\u001b[0m             \u001b[0;32mexcept\u001b[0m \u001b[0mKeyboardInterrupt\u001b[0m\u001b[0;34m:\u001b[0m\u001b[0;34m\u001b[0m\u001b[0;34m\u001b[0m\u001b[0m\n\u001b[1;32m    903\u001b[0m                 \u001b[0;31m# re-raise KeyboardInterrupt, to truncate traceback\u001b[0m\u001b[0;34m\u001b[0m\u001b[0;34m\u001b[0m\u001b[0;34m\u001b[0m\u001b[0m\n\u001b[0;32m--> 904\u001b[0;31m                 \u001b[0;32mraise\u001b[0m \u001b[0mKeyboardInterrupt\u001b[0m\u001b[0;34m(\u001b[0m\u001b[0;34m\"Interrupted by user\"\u001b[0m\u001b[0;34m)\u001b[0m \u001b[0;32mfrom\u001b[0m \u001b[0;32mNone\u001b[0m\u001b[0;34m\u001b[0m\u001b[0;34m\u001b[0m\u001b[0m\n\u001b[0m\u001b[1;32m    905\u001b[0m             \u001b[0;32mexcept\u001b[0m \u001b[0mException\u001b[0m \u001b[0;32mas\u001b[0m \u001b[0me\u001b[0m\u001b[0;34m:\u001b[0m\u001b[0;34m\u001b[0m\u001b[0;34m\u001b[0m\u001b[0m\n\u001b[1;32m    906\u001b[0m                 \u001b[0mself\u001b[0m\u001b[0;34m.\u001b[0m\u001b[0mlog\u001b[0m\u001b[0;34m.\u001b[0m\u001b[0mwarning\u001b[0m\u001b[0;34m(\u001b[0m\u001b[0;34m\"Invalid Message:\"\u001b[0m\u001b[0;34m,\u001b[0m \u001b[0mexc_info\u001b[0m\u001b[0;34m=\u001b[0m\u001b[0;32mTrue\u001b[0m\u001b[0;34m)\u001b[0m\u001b[0;34m\u001b[0m\u001b[0;34m\u001b[0m\u001b[0m\n",
      "\u001b[0;31mKeyboardInterrupt\u001b[0m: Interrupted by user"
     ]
    },
    {
     "name": "stdin",
     "output_type": "stream",
     "text": [
      "Enter the name of the source file:  \n"
     ]
    }
   ],
   "source": [
    "input_file = input('Enter the name of the source file: ')\n",
    "output_file = input('Enter the name of the target file: ')\n",
    "empty_lines_count = 0\n",
    "with open(input_file) as in_file:\n",
    "    with open(output_file, 'w') as out_file:\n",
    "        for line in in_file:\n",
    "            if line == '\\n':\n",
    "                empty_lines_count += 1\n",
    "                continue\n",
    "            out_file.write(line)\n",
    "print(empty_lines_count)"
   ]
  },
  {
   "cell_type": "markdown",
   "metadata": {},
   "source": [
    "#### Write a program that prompts for the name of a file, then print the first two lines and the last two lines of the file."
   ]
  },
  {
   "cell_type": "code",
   "execution_count": 39,
   "metadata": {},
   "outputs": [
    {
     "name": "stdin",
     "output_type": "stream",
     "text": [
      "Enter the name of the file:  Yesterday.txt\n"
     ]
    },
    {
     "name": "stdout",
     "output_type": "stream",
     "text": [
      "Yesterday Once More\n",
      "When I was young\n",
      "I would sing to then\n",
      "And I'd memorize each\n"
     ]
    }
   ],
   "source": [
    "file_name = input('Enter the name of the file: ')\n",
    "with open(file_name) as file:\n",
    "    print(file.readline().rstrip())\n",
    "    print(file.readline().rstrip())\n",
    "    line_1 = file.readline().rstrip()\n",
    "    for line in file:\n",
    "        if line.endswith('\\n'):\n",
    "            line_1 = line.rstrip()\n",
    "        else:\n",
    "            print(line_1)\n",
    "            print(line)\n",
    "            "
   ]
  },
  {
   "cell_type": "markdown",
   "metadata": {},
   "source": [
    "#### Write a program that prompts for the name of a file containing numbers in each line, prints the average of each line. Assume each line contains numbers only and they are separated by spaces."
   ]
  },
  {
   "cell_type": "code",
   "execution_count": 16,
   "metadata": {},
   "outputs": [
    {
     "name": "stdout",
     "output_type": "stream",
     "text": [
      "The average of line 1 is 60.0\n",
      "The average of line 2 is 91.75\n",
      "The average of line 3 is 48.75\n",
      "The average of line 4 is 56.25\n"
     ]
    }
   ],
   "source": [
    "with open(\"Scores.txt\") as file:\n",
    "    for i, line in enumerate(file):\n",
    "        nums = [int(num) for num in line.rstrip().split()]\n",
    "        print(f\"The average of line {i+1} is {sum(nums)/len(nums)}\")"
   ]
  },
  {
   "cell_type": "markdown",
   "metadata": {},
   "source": [
    "#### Write your own version of wc that prompts for the name of the file to read, then prints the counts. Assume a word may contain letters, digits, symbols and their mixture, but not space. Hyphenated words, e.g. large-scale, shall be considered as one word."
   ]
  },
  {
   "cell_type": "code",
   "execution_count": 36,
   "metadata": {},
   "outputs": [
    {
     "name": "stdout",
     "output_type": "stream",
     "text": [
      "Characters: 1227\n",
      "Words: 176\n",
      "Lines: 10\n"
     ]
    }
   ],
   "source": [
    "with open(\"Python.txt\") as file:\n",
    "    content = file.read()\n",
    "    print(\"Characters:\", len(content))\n",
    "    print(\"Words:\", len(content.split()))\n",
    "    print(\"Lines:\", len(content.split('\\n')))"
   ]
  },
  {
   "cell_type": "code",
   "execution_count": 44,
   "metadata": {},
   "outputs": [
    {
     "name": "stdout",
     "output_type": "stream",
     "text": [
      "Characters: 1227\n",
      "Words: 176\n",
      "Lines: 10\n"
     ]
    }
   ],
   "source": [
    "with open(\"Python.txt\") as file:\n",
    "    content = file.read()\n",
    "    char_count = 0\n",
    "    word_count = 0\n",
    "    line_count = 0\n",
    "    prev_char = content[0]\n",
    "    char_count += 1\n",
    "    if prev_char == ' ':\n",
    "        word_count += 1\n",
    "    if prev_char == '\\n':\n",
    "        line_count += 1\n",
    "        word_count += 1\n",
    "    for char in content[1:]:\n",
    "        char_count += 1\n",
    "        if char == ' ':\n",
    "            word_count += 1\n",
    "        if char == '\\n':\n",
    "            line_count += 1\n",
    "            if not prev_char == ' ':    \n",
    "                word_count += 1\n",
    "        prev_char = char\n",
    "    word_count += 1\n",
    "    line_count += 1\n",
    "    print(\"Characters:\", char_count)\n",
    "    print(\"Words:\", word_count)\n",
    "    print(\"Lines:\", line_count)\n"
   ]
  },
  {
   "cell_type": "markdown",
   "metadata": {},
   "source": [
    "# While Loop"
   ]
  },
  {
   "cell_type": "code",
   "execution_count": 20,
   "metadata": {},
   "outputs": [
    {
     "name": "stdout",
     "output_type": "stream",
     "text": [
      "10\n",
      "9\n",
      "8\n",
      "7\n",
      "6\n",
      "5\n",
      "4\n",
      "3\n",
      "2\n",
      "1\n",
      "while loop is finished.\n"
     ]
    }
   ],
   "source": [
    "i = 10\n",
    "while i>0:\n",
    "    print(i)\n",
    "    i -= 1\n",
    "print('while loop is finished.')"
   ]
  },
  {
   "cell_type": "code",
   "execution_count": 21,
   "metadata": {},
   "outputs": [
    {
     "name": "stdout",
     "output_type": "stream",
     "text": [
      "['sam\\n', 'bob\\n', 'david\\n', 'Rose\\n', 'John']\n",
      "5\n",
      "John\n",
      "Rose\n",
      "David\n",
      "Bob\n",
      "Sam\n"
     ]
    }
   ],
   "source": [
    "file = open('names.txt')\n",
    "names = file.readlines()\n",
    "print(names)\n",
    "num_names = len(names)\n",
    "print(num_names)\n",
    "i = num_names - 1\n",
    "while i >= 0:\n",
    "    print(names[i].strip().capitalize())\n",
    "    i -= 1"
   ]
  },
  {
   "cell_type": "code",
   "execution_count": 33,
   "metadata": {},
   "outputs": [
    {
     "name": "stdout",
     "output_type": "stream",
     "text": [
      "John\n",
      "Rose\n",
      "David\n",
      "Bob\n",
      "Sam\n"
     ]
    }
   ],
   "source": [
    "file = open('names.txt')\n",
    "out = open('correct_names.txt', 'w')\n",
    "names = file.readlines()\n",
    "num_names = len(names)\n",
    "idx = num_names\n",
    "while idx > 0:\n",
    "    correct_name = names[idx - 1].rstrip().capitalize()\n",
    "    out.write(correct_name+'\\n')\n",
    "    print(correct_name)\n",
    "    idx -= 1\n",
    "out.close()"
   ]
  },
  {
   "cell_type": "markdown",
   "metadata": {},
   "source": [
    "## Break\n",
    "#### Jumps out of the colsest enclosing loop in other words past the entire loop statement"
   ]
  },
  {
   "cell_type": "code",
   "execution_count": 38,
   "metadata": {},
   "outputs": [
    {
     "name": "stdin",
     "output_type": "stream",
     "text": [
      "Enter your name:  Ryuji\n"
     ]
    },
    {
     "name": "stdout",
     "output_type": "stream",
     "text": [
      "Hello dear Ryuji.\n"
     ]
    },
    {
     "name": "stdin",
     "output_type": "stream",
     "text": [
      "Enter your name:  Mahdi\n"
     ]
    },
    {
     "name": "stdout",
     "output_type": "stream",
     "text": [
      "Hello dear Mahdi.\n"
     ]
    },
    {
     "name": "stdin",
     "output_type": "stream",
     "text": [
      "Enter your name:  stop\n"
     ]
    }
   ],
   "source": [
    "while True:\n",
    "    name = input('Enter your name: ')\n",
    "    if name == 'stop':\n",
    "        break\n",
    "    print(f'Hello dear {name}.')"
   ]
  },
  {
   "cell_type": "markdown",
   "metadata": {},
   "source": [
    "## Continue\n",
    "#### Jumps to the top of the colsest enclosing loop (to the loop's header line)"
   ]
  },
  {
   "cell_type": "code",
   "execution_count": 43,
   "metadata": {},
   "outputs": [
    {
     "name": "stdout",
     "output_type": "stream",
     "text": [
      "8 6 4 2 0 "
     ]
    }
   ],
   "source": [
    "x = 10\n",
    "while x>=0:\n",
    "    x = x -1\n",
    "    if x % 2 != 0:\n",
    "        continue\n",
    "    print(x, end=' ')"
   ]
  },
  {
   "cell_type": "markdown",
   "metadata": {},
   "source": [
    "## Loop Else\n",
    "#### Runs if and only if the loop is exited noramlly (i.e., without hitting a break)"
   ]
  },
  {
   "cell_type": "code",
   "execution_count": 49,
   "metadata": {},
   "outputs": [
    {
     "name": "stdout",
     "output_type": "stream",
     "text": [
      "11 is prime.\n"
     ]
    }
   ],
   "source": [
    "y = 11\n",
    "x = y // 2\n",
    "while x > 1:\n",
    "    if y % x == 0:\n",
    "        print(y, 'has factor', x)\n",
    "        break\n",
    "    x -= 1\n",
    "else:\n",
    "    print(y, 'is prime.')"
   ]
  },
  {
   "cell_type": "code",
   "execution_count": null,
   "metadata": {},
   "outputs": [],
   "source": []
  }
 ],
 "metadata": {
  "kernelspec": {
   "display_name": "Python 3",
   "language": "python",
   "name": "python3"
  },
  "language_info": {
   "codemirror_mode": {
    "name": "ipython",
    "version": 3
   },
   "file_extension": ".py",
   "mimetype": "text/x-python",
   "name": "python",
   "nbconvert_exporter": "python",
   "pygments_lexer": "ipython3",
   "version": "3.8.3"
  }
 },
 "nbformat": 4,
 "nbformat_minor": 4
}
